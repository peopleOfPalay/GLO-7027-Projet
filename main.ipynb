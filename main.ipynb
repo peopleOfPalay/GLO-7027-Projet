{
 "metadata": {
  "language_info": {
   "codemirror_mode": {
    "name": "ipython",
    "version": 3
   },
   "file_extension": ".py",
   "mimetype": "text/x-python",
   "name": "python",
   "nbconvert_exporter": "python",
   "pygments_lexer": "ipython3",
   "version": "3.8.3-final"
  },
  "orig_nbformat": 2,
  "kernelspec": {
   "name": "python3",
   "display_name": "Python 3",
   "language": "python"
  }
 },
 "nbformat": 4,
 "nbformat_minor": 2,
 "cells": [
  {
   "cell_type": "code",
   "execution_count": 1,
   "metadata": {},
   "outputs": [],
   "source": [
    "import pandas as pd\n",
    "import numpy as np\n",
    "import matplotlib.pyplot as plt\n",
    "import os"
   ]
  },
  {
   "cell_type": "code",
   "execution_count": 24,
   "metadata": {},
   "outputs": [
    {
     "output_type": "execute_result",
     "data": {
      "text/plain": [
       "['latribune',\n",
       " 'lavoixdelest',\n",
       " 'ledroit',\n",
       " 'lenouvelliste',\n",
       " 'lequotidien',\n",
       " 'lesoleil']"
      ]
     },
     "metadata": {},
     "execution_count": 24
    }
   ],
   "source": [
    "DATA_PATH = '../data/RichardKhoury/analytics/'\n",
    "journal_names = os.listdir(DATA_PATH)\n",
    "journal_names"
   ]
  },
  {
   "cell_type": "code",
   "execution_count": 23,
   "metadata": {
    "tags": []
   },
   "outputs": [
    {
     "output_type": "stream",
     "name": "stdout",
     "text": [
      "../data/RichardKhoury/analytics/latribune\n../data/RichardKhoury/analytics/lavoixdelest\n../data/RichardKhoury/analytics/ledroit\n../data/RichardKhoury/analytics/lenouvelliste\n../data/RichardKhoury/analytics/lequotidien\n../data/RichardKhoury/analytics/lesoleil\n"
     ]
    }
   ],
   "source": [
    "for journal_name in journal_names: \n",
    "    file_names = os.listdir(f'{DATA_PATH}{journal_name}')\n",
    "\n",
    "file_names[0]"
   ]
  },
  {
   "cell_type": "code",
   "execution_count": null,
   "metadata": {},
   "outputs": [],
   "source": []
  }
 ]
}